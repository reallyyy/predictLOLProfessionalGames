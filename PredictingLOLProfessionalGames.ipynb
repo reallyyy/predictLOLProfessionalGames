{
 "cells": [
  {
   "cell_type": "markdown",
   "id": "5958149a",
   "metadata": {},
   "source": [
    "## This files contains the Logistic Regression, Random Forest, and Support Vector Machine Models"
   ]
  },
  {
   "cell_type": "code",
   "execution_count": 38,
   "id": "b128d5f9",
   "metadata": {},
   "outputs": [],
   "source": [
    "import numpy as np\n",
    "import pandas as pd\n",
    "import matplotlib.pyplot as plt\n",
    "import os\n",
    "from tabulate import tabulate\n",
    "\n",
    "from sklearn.model_selection import train_test_split\n",
    "from sklearn.preprocessing import StandardScaler\n",
    "from sklearn.linear_model import LogisticRegression\n",
    "from sklearn.metrics import recall_score, precision_score, f1_score, accuracy_score"
   ]
  },
  {
   "cell_type": "code",
   "execution_count": 2,
   "id": "8c985a0a",
   "metadata": {},
   "outputs": [
    {
     "name": "stderr",
     "output_type": "stream",
     "text": [
      "C:\\Users\\admin\\AppData\\Local\\Temp\\ipykernel_12356\\2440161630.py:6: DtypeWarning: Columns (2) have mixed types. Specify dtype option on import or set low_memory=False.\n",
      "  match_data = pd.concat([match_data,pd.read_csv(filename)])\n",
      "C:\\Users\\admin\\AppData\\Local\\Temp\\ipykernel_12356\\2440161630.py:6: DtypeWarning: Columns (2) have mixed types. Specify dtype option on import or set low_memory=False.\n",
      "  match_data = pd.concat([match_data,pd.read_csv(filename)])\n"
     ]
    }
   ],
   "source": [
    "# assign directory, I only use data from 2019 till 2023\n",
    "# you can download the data from here Link: https://oracleselixir.com/tools/downloads\n",
    "\n",
    "match_data = pd.DataFrame()\n",
    "directory = link_to_your_match_data_folder\n",
    "for filename in os.scandir(directory):\n",
    "    if filename.is_file():\n",
    "        match_data = pd.concat([match_data,pd.read_csv(filename)])"
   ]
  },
  {
   "cell_type": "code",
   "execution_count": 3,
   "id": "5e4b8c8c",
   "metadata": {},
   "outputs": [],
   "source": [
    "df = match_data[['result','gameid','participantid','firstblood', 'firstdragon', 'firstherald', 'firsttower', 'goldat15', 'xpat15', 'csat15', 'opp_goldat15', 'opp_xpat15', 'opp_csat15', 'golddiffat15', 'xpdiffat15', 'csdiffat15', 'killsat15', 'assistsat15', 'deathsat15', 'opp_killsat15', 'opp_assistsat15', 'opp_deathsat15']]\n",
    "df = df[(df[\"participantid\"]==100)|(df[\"participantid\"]==200)]"
   ]
  },
  {
   "cell_type": "code",
   "execution_count": 10,
   "id": "3aa7709e",
   "metadata": {},
   "outputs": [
    {
     "data": {
      "text/html": [
       "<div>\n",
       "<style scoped>\n",
       "    .dataframe tbody tr th:only-of-type {\n",
       "        vertical-align: middle;\n",
       "    }\n",
       "\n",
       "    .dataframe tbody tr th {\n",
       "        vertical-align: top;\n",
       "    }\n",
       "\n",
       "    .dataframe thead th {\n",
       "        text-align: right;\n",
       "    }\n",
       "</style>\n",
       "<table border=\"1\" class=\"dataframe\">\n",
       "  <thead>\n",
       "    <tr style=\"text-align: right;\">\n",
       "      <th></th>\n",
       "      <th>result</th>\n",
       "      <th>gameid</th>\n",
       "      <th>participantid</th>\n",
       "      <th>firstblood</th>\n",
       "      <th>firstdragon</th>\n",
       "      <th>firstherald</th>\n",
       "      <th>firsttower</th>\n",
       "      <th>goldat15</th>\n",
       "      <th>xpat15</th>\n",
       "      <th>csat15</th>\n",
       "      <th>...</th>\n",
       "      <th>opp_csat15</th>\n",
       "      <th>golddiffat15</th>\n",
       "      <th>xpdiffat15</th>\n",
       "      <th>csdiffat15</th>\n",
       "      <th>killsat15</th>\n",
       "      <th>assistsat15</th>\n",
       "      <th>deathsat15</th>\n",
       "      <th>opp_killsat15</th>\n",
       "      <th>opp_assistsat15</th>\n",
       "      <th>opp_deathsat15</th>\n",
       "    </tr>\n",
       "  </thead>\n",
       "  <tbody>\n",
       "    <tr>\n",
       "      <th>10</th>\n",
       "      <td>1</td>\n",
       "      <td>ESPORTSTMNT01/1030526</td>\n",
       "      <td>100</td>\n",
       "      <td>0.0</td>\n",
       "      <td>1.0</td>\n",
       "      <td>1.0</td>\n",
       "      <td>1.0</td>\n",
       "      <td>25461.0</td>\n",
       "      <td>29721.0</td>\n",
       "      <td>490.0</td>\n",
       "      <td>...</td>\n",
       "      <td>468.0</td>\n",
       "      <td>2579.0</td>\n",
       "      <td>1391.0</td>\n",
       "      <td>22.0</td>\n",
       "      <td>7.0</td>\n",
       "      <td>15.0</td>\n",
       "      <td>4.0</td>\n",
       "      <td>4.0</td>\n",
       "      <td>2.0</td>\n",
       "      <td>7.0</td>\n",
       "    </tr>\n",
       "    <tr>\n",
       "      <th>11</th>\n",
       "      <td>0</td>\n",
       "      <td>ESPORTSTMNT01/1030526</td>\n",
       "      <td>200</td>\n",
       "      <td>1.0</td>\n",
       "      <td>0.0</td>\n",
       "      <td>0.0</td>\n",
       "      <td>0.0</td>\n",
       "      <td>22882.0</td>\n",
       "      <td>28330.0</td>\n",
       "      <td>468.0</td>\n",
       "      <td>...</td>\n",
       "      <td>490.0</td>\n",
       "      <td>-2579.0</td>\n",
       "      <td>-1391.0</td>\n",
       "      <td>-22.0</td>\n",
       "      <td>4.0</td>\n",
       "      <td>2.0</td>\n",
       "      <td>7.0</td>\n",
       "      <td>7.0</td>\n",
       "      <td>15.0</td>\n",
       "      <td>4.0</td>\n",
       "    </tr>\n",
       "    <tr>\n",
       "      <th>22</th>\n",
       "      <td>0</td>\n",
       "      <td>ESPORTSTMNT01/1040501</td>\n",
       "      <td>100</td>\n",
       "      <td>1.0</td>\n",
       "      <td>0.0</td>\n",
       "      <td>1.0</td>\n",
       "      <td>0.0</td>\n",
       "      <td>25027.0</td>\n",
       "      <td>28752.0</td>\n",
       "      <td>484.0</td>\n",
       "      <td>...</td>\n",
       "      <td>531.0</td>\n",
       "      <td>1467.0</td>\n",
       "      <td>-1261.0</td>\n",
       "      <td>-47.0</td>\n",
       "      <td>5.0</td>\n",
       "      <td>6.0</td>\n",
       "      <td>1.0</td>\n",
       "      <td>1.0</td>\n",
       "      <td>2.0</td>\n",
       "      <td>5.0</td>\n",
       "    </tr>\n",
       "    <tr>\n",
       "      <th>23</th>\n",
       "      <td>1</td>\n",
       "      <td>ESPORTSTMNT01/1040501</td>\n",
       "      <td>200</td>\n",
       "      <td>0.0</td>\n",
       "      <td>1.0</td>\n",
       "      <td>0.0</td>\n",
       "      <td>1.0</td>\n",
       "      <td>23560.0</td>\n",
       "      <td>30013.0</td>\n",
       "      <td>531.0</td>\n",
       "      <td>...</td>\n",
       "      <td>484.0</td>\n",
       "      <td>-1467.0</td>\n",
       "      <td>1261.0</td>\n",
       "      <td>47.0</td>\n",
       "      <td>1.0</td>\n",
       "      <td>2.0</td>\n",
       "      <td>5.0</td>\n",
       "      <td>5.0</td>\n",
       "      <td>6.0</td>\n",
       "      <td>1.0</td>\n",
       "    </tr>\n",
       "    <tr>\n",
       "      <th>34</th>\n",
       "      <td>0</td>\n",
       "      <td>ESPORTSTMNT01/1040511</td>\n",
       "      <td>100</td>\n",
       "      <td>1.0</td>\n",
       "      <td>0.0</td>\n",
       "      <td>1.0</td>\n",
       "      <td>0.0</td>\n",
       "      <td>22913.0</td>\n",
       "      <td>31100.0</td>\n",
       "      <td>523.0</td>\n",
       "      <td>...</td>\n",
       "      <td>548.0</td>\n",
       "      <td>-1586.0</td>\n",
       "      <td>-928.0</td>\n",
       "      <td>-25.0</td>\n",
       "      <td>0.0</td>\n",
       "      <td>0.0</td>\n",
       "      <td>0.0</td>\n",
       "      <td>0.0</td>\n",
       "      <td>0.0</td>\n",
       "      <td>0.0</td>\n",
       "    </tr>\n",
       "    <tr>\n",
       "      <th>...</th>\n",
       "      <td>...</td>\n",
       "      <td>...</td>\n",
       "      <td>...</td>\n",
       "      <td>...</td>\n",
       "      <td>...</td>\n",
       "      <td>...</td>\n",
       "      <td>...</td>\n",
       "      <td>...</td>\n",
       "      <td>...</td>\n",
       "      <td>...</td>\n",
       "      <td>...</td>\n",
       "      <td>...</td>\n",
       "      <td>...</td>\n",
       "      <td>...</td>\n",
       "      <td>...</td>\n",
       "      <td>...</td>\n",
       "      <td>...</td>\n",
       "      <td>...</td>\n",
       "      <td>...</td>\n",
       "      <td>...</td>\n",
       "      <td>...</td>\n",
       "    </tr>\n",
       "    <tr>\n",
       "      <th>130151</th>\n",
       "      <td>0</td>\n",
       "      <td>ESPORTSTMNT01_3438649</td>\n",
       "      <td>200</td>\n",
       "      <td>0.0</td>\n",
       "      <td>1.0</td>\n",
       "      <td>0.0</td>\n",
       "      <td>0.0</td>\n",
       "      <td>24031.0</td>\n",
       "      <td>30006.0</td>\n",
       "      <td>540.0</td>\n",
       "      <td>...</td>\n",
       "      <td>521.0</td>\n",
       "      <td>31.0</td>\n",
       "      <td>1299.0</td>\n",
       "      <td>19.0</td>\n",
       "      <td>4.0</td>\n",
       "      <td>13.0</td>\n",
       "      <td>2.0</td>\n",
       "      <td>1.0</td>\n",
       "      <td>3.0</td>\n",
       "      <td>4.0</td>\n",
       "    </tr>\n",
       "    <tr>\n",
       "      <th>130162</th>\n",
       "      <td>1</td>\n",
       "      <td>ESPORTSTMNT01_3436660</td>\n",
       "      <td>100</td>\n",
       "      <td>1.0</td>\n",
       "      <td>1.0</td>\n",
       "      <td>0.0</td>\n",
       "      <td>1.0</td>\n",
       "      <td>23720.0</td>\n",
       "      <td>28871.0</td>\n",
       "      <td>515.0</td>\n",
       "      <td>...</td>\n",
       "      <td>461.0</td>\n",
       "      <td>-75.0</td>\n",
       "      <td>545.0</td>\n",
       "      <td>54.0</td>\n",
       "      <td>3.0</td>\n",
       "      <td>4.0</td>\n",
       "      <td>5.0</td>\n",
       "      <td>5.0</td>\n",
       "      <td>9.0</td>\n",
       "      <td>3.0</td>\n",
       "    </tr>\n",
       "    <tr>\n",
       "      <th>130163</th>\n",
       "      <td>0</td>\n",
       "      <td>ESPORTSTMNT01_3436660</td>\n",
       "      <td>200</td>\n",
       "      <td>0.0</td>\n",
       "      <td>0.0</td>\n",
       "      <td>1.0</td>\n",
       "      <td>0.0</td>\n",
       "      <td>23795.0</td>\n",
       "      <td>28326.0</td>\n",
       "      <td>461.0</td>\n",
       "      <td>...</td>\n",
       "      <td>515.0</td>\n",
       "      <td>75.0</td>\n",
       "      <td>-545.0</td>\n",
       "      <td>-54.0</td>\n",
       "      <td>5.0</td>\n",
       "      <td>9.0</td>\n",
       "      <td>3.0</td>\n",
       "      <td>3.0</td>\n",
       "      <td>4.0</td>\n",
       "      <td>5.0</td>\n",
       "    </tr>\n",
       "    <tr>\n",
       "      <th>130174</th>\n",
       "      <td>1</td>\n",
       "      <td>ESPORTSTMNT01_3438678</td>\n",
       "      <td>100</td>\n",
       "      <td>1.0</td>\n",
       "      <td>0.0</td>\n",
       "      <td>0.0</td>\n",
       "      <td>0.0</td>\n",
       "      <td>23356.0</td>\n",
       "      <td>28430.0</td>\n",
       "      <td>481.0</td>\n",
       "      <td>...</td>\n",
       "      <td>515.0</td>\n",
       "      <td>-660.0</td>\n",
       "      <td>-1568.0</td>\n",
       "      <td>-34.0</td>\n",
       "      <td>4.0</td>\n",
       "      <td>7.0</td>\n",
       "      <td>2.0</td>\n",
       "      <td>2.0</td>\n",
       "      <td>0.0</td>\n",
       "      <td>4.0</td>\n",
       "    </tr>\n",
       "    <tr>\n",
       "      <th>130175</th>\n",
       "      <td>0</td>\n",
       "      <td>ESPORTSTMNT01_3438678</td>\n",
       "      <td>200</td>\n",
       "      <td>0.0</td>\n",
       "      <td>1.0</td>\n",
       "      <td>1.0</td>\n",
       "      <td>1.0</td>\n",
       "      <td>24016.0</td>\n",
       "      <td>29998.0</td>\n",
       "      <td>515.0</td>\n",
       "      <td>...</td>\n",
       "      <td>481.0</td>\n",
       "      <td>660.0</td>\n",
       "      <td>1568.0</td>\n",
       "      <td>34.0</td>\n",
       "      <td>2.0</td>\n",
       "      <td>0.0</td>\n",
       "      <td>4.0</td>\n",
       "      <td>4.0</td>\n",
       "      <td>7.0</td>\n",
       "      <td>2.0</td>\n",
       "    </tr>\n",
       "  </tbody>\n",
       "</table>\n",
       "<p>97726 rows × 22 columns</p>\n",
       "</div>"
      ],
      "text/plain": [
       "        result                 gameid  participantid  firstblood  firstdragon  \\\n",
       "10           1  ESPORTSTMNT01/1030526            100         0.0          1.0   \n",
       "11           0  ESPORTSTMNT01/1030526            200         1.0          0.0   \n",
       "22           0  ESPORTSTMNT01/1040501            100         1.0          0.0   \n",
       "23           1  ESPORTSTMNT01/1040501            200         0.0          1.0   \n",
       "34           0  ESPORTSTMNT01/1040511            100         1.0          0.0   \n",
       "...        ...                    ...            ...         ...          ...   \n",
       "130151       0  ESPORTSTMNT01_3438649            200         0.0          1.0   \n",
       "130162       1  ESPORTSTMNT01_3436660            100         1.0          1.0   \n",
       "130163       0  ESPORTSTMNT01_3436660            200         0.0          0.0   \n",
       "130174       1  ESPORTSTMNT01_3438678            100         1.0          0.0   \n",
       "130175       0  ESPORTSTMNT01_3438678            200         0.0          1.0   \n",
       "\n",
       "        firstherald  firsttower  goldat15   xpat15  csat15  ...  opp_csat15  \\\n",
       "10              1.0         1.0   25461.0  29721.0   490.0  ...       468.0   \n",
       "11              0.0         0.0   22882.0  28330.0   468.0  ...       490.0   \n",
       "22              1.0         0.0   25027.0  28752.0   484.0  ...       531.0   \n",
       "23              0.0         1.0   23560.0  30013.0   531.0  ...       484.0   \n",
       "34              1.0         0.0   22913.0  31100.0   523.0  ...       548.0   \n",
       "...             ...         ...       ...      ...     ...  ...         ...   \n",
       "130151          0.0         0.0   24031.0  30006.0   540.0  ...       521.0   \n",
       "130162          0.0         1.0   23720.0  28871.0   515.0  ...       461.0   \n",
       "130163          1.0         0.0   23795.0  28326.0   461.0  ...       515.0   \n",
       "130174          0.0         0.0   23356.0  28430.0   481.0  ...       515.0   \n",
       "130175          1.0         1.0   24016.0  29998.0   515.0  ...       481.0   \n",
       "\n",
       "        golddiffat15  xpdiffat15  csdiffat15  killsat15  assistsat15  \\\n",
       "10            2579.0      1391.0        22.0        7.0         15.0   \n",
       "11           -2579.0     -1391.0       -22.0        4.0          2.0   \n",
       "22            1467.0     -1261.0       -47.0        5.0          6.0   \n",
       "23           -1467.0      1261.0        47.0        1.0          2.0   \n",
       "34           -1586.0      -928.0       -25.0        0.0          0.0   \n",
       "...              ...         ...         ...        ...          ...   \n",
       "130151          31.0      1299.0        19.0        4.0         13.0   \n",
       "130162         -75.0       545.0        54.0        3.0          4.0   \n",
       "130163          75.0      -545.0       -54.0        5.0          9.0   \n",
       "130174        -660.0     -1568.0       -34.0        4.0          7.0   \n",
       "130175         660.0      1568.0        34.0        2.0          0.0   \n",
       "\n",
       "        deathsat15  opp_killsat15  opp_assistsat15  opp_deathsat15  \n",
       "10             4.0            4.0              2.0             7.0  \n",
       "11             7.0            7.0             15.0             4.0  \n",
       "22             1.0            1.0              2.0             5.0  \n",
       "23             5.0            5.0              6.0             1.0  \n",
       "34             0.0            0.0              0.0             0.0  \n",
       "...            ...            ...              ...             ...  \n",
       "130151         2.0            1.0              3.0             4.0  \n",
       "130162         5.0            5.0              9.0             3.0  \n",
       "130163         3.0            3.0              4.0             5.0  \n",
       "130174         2.0            2.0              0.0             4.0  \n",
       "130175         4.0            4.0              7.0             2.0  \n",
       "\n",
       "[97726 rows x 22 columns]"
      ]
     },
     "execution_count": 10,
     "metadata": {},
     "output_type": "execute_result"
    }
   ],
   "source": [
    "df"
   ]
  },
  {
   "cell_type": "markdown",
   "id": "eb5ed03b",
   "metadata": {},
   "source": [
    "## Import Training-Val Data"
   ]
  },
  {
   "cell_type": "markdown",
   "id": "fffa6a1d",
   "metadata": {},
   "source": [
    "### Clean Data for Nan, Infinite and too large value"
   ]
  },
  {
   "cell_type": "code",
   "execution_count": 11,
   "id": "67b70c74",
   "metadata": {},
   "outputs": [],
   "source": [
    "#Cleaning the data as there is some Null\n",
    "def clean_dataset(df):\n",
    "    df.dropna(inplace=True)\n",
    "    indices_to_keep = ~df.isin([np.nan, np.inf, -np.inf]).any(axis = 1)\n",
    "    return df[indices_to_keep]"
   ]
  },
  {
   "cell_type": "code",
   "execution_count": 12,
   "id": "1d6ff32e",
   "metadata": {},
   "outputs": [
    {
     "data": {
      "text/plain": [
       "(97726, 22)"
      ]
     },
     "execution_count": 12,
     "metadata": {},
     "output_type": "execute_result"
    }
   ],
   "source": [
    "df.shape"
   ]
  },
  {
   "cell_type": "code",
   "execution_count": 13,
   "id": "80dd233a",
   "metadata": {},
   "outputs": [
    {
     "data": {
      "text/html": [
       "<div>\n",
       "<style scoped>\n",
       "    .dataframe tbody tr th:only-of-type {\n",
       "        vertical-align: middle;\n",
       "    }\n",
       "\n",
       "    .dataframe tbody tr th {\n",
       "        vertical-align: top;\n",
       "    }\n",
       "\n",
       "    .dataframe thead th {\n",
       "        text-align: right;\n",
       "    }\n",
       "</style>\n",
       "<table border=\"1\" class=\"dataframe\">\n",
       "  <thead>\n",
       "    <tr style=\"text-align: right;\">\n",
       "      <th></th>\n",
       "      <th>result</th>\n",
       "      <th>gameid</th>\n",
       "      <th>participantid</th>\n",
       "      <th>firstblood</th>\n",
       "      <th>firstdragon</th>\n",
       "      <th>firstherald</th>\n",
       "      <th>firsttower</th>\n",
       "      <th>goldat15</th>\n",
       "      <th>xpat15</th>\n",
       "      <th>csat15</th>\n",
       "      <th>...</th>\n",
       "      <th>opp_csat15</th>\n",
       "      <th>golddiffat15</th>\n",
       "      <th>xpdiffat15</th>\n",
       "      <th>csdiffat15</th>\n",
       "      <th>killsat15</th>\n",
       "      <th>assistsat15</th>\n",
       "      <th>deathsat15</th>\n",
       "      <th>opp_killsat15</th>\n",
       "      <th>opp_assistsat15</th>\n",
       "      <th>opp_deathsat15</th>\n",
       "    </tr>\n",
       "  </thead>\n",
       "  <tbody>\n",
       "    <tr>\n",
       "      <th>10</th>\n",
       "      <td>1</td>\n",
       "      <td>ESPORTSTMNT01/1030526</td>\n",
       "      <td>100</td>\n",
       "      <td>0.0</td>\n",
       "      <td>1.0</td>\n",
       "      <td>1.0</td>\n",
       "      <td>1.0</td>\n",
       "      <td>25461.0</td>\n",
       "      <td>29721.0</td>\n",
       "      <td>490.0</td>\n",
       "      <td>...</td>\n",
       "      <td>468.0</td>\n",
       "      <td>2579.0</td>\n",
       "      <td>1391.0</td>\n",
       "      <td>22.0</td>\n",
       "      <td>7.0</td>\n",
       "      <td>15.0</td>\n",
       "      <td>4.0</td>\n",
       "      <td>4.0</td>\n",
       "      <td>2.0</td>\n",
       "      <td>7.0</td>\n",
       "    </tr>\n",
       "    <tr>\n",
       "      <th>11</th>\n",
       "      <td>0</td>\n",
       "      <td>ESPORTSTMNT01/1030526</td>\n",
       "      <td>200</td>\n",
       "      <td>1.0</td>\n",
       "      <td>0.0</td>\n",
       "      <td>0.0</td>\n",
       "      <td>0.0</td>\n",
       "      <td>22882.0</td>\n",
       "      <td>28330.0</td>\n",
       "      <td>468.0</td>\n",
       "      <td>...</td>\n",
       "      <td>490.0</td>\n",
       "      <td>-2579.0</td>\n",
       "      <td>-1391.0</td>\n",
       "      <td>-22.0</td>\n",
       "      <td>4.0</td>\n",
       "      <td>2.0</td>\n",
       "      <td>7.0</td>\n",
       "      <td>7.0</td>\n",
       "      <td>15.0</td>\n",
       "      <td>4.0</td>\n",
       "    </tr>\n",
       "    <tr>\n",
       "      <th>22</th>\n",
       "      <td>0</td>\n",
       "      <td>ESPORTSTMNT01/1040501</td>\n",
       "      <td>100</td>\n",
       "      <td>1.0</td>\n",
       "      <td>0.0</td>\n",
       "      <td>1.0</td>\n",
       "      <td>0.0</td>\n",
       "      <td>25027.0</td>\n",
       "      <td>28752.0</td>\n",
       "      <td>484.0</td>\n",
       "      <td>...</td>\n",
       "      <td>531.0</td>\n",
       "      <td>1467.0</td>\n",
       "      <td>-1261.0</td>\n",
       "      <td>-47.0</td>\n",
       "      <td>5.0</td>\n",
       "      <td>6.0</td>\n",
       "      <td>1.0</td>\n",
       "      <td>1.0</td>\n",
       "      <td>2.0</td>\n",
       "      <td>5.0</td>\n",
       "    </tr>\n",
       "    <tr>\n",
       "      <th>23</th>\n",
       "      <td>1</td>\n",
       "      <td>ESPORTSTMNT01/1040501</td>\n",
       "      <td>200</td>\n",
       "      <td>0.0</td>\n",
       "      <td>1.0</td>\n",
       "      <td>0.0</td>\n",
       "      <td>1.0</td>\n",
       "      <td>23560.0</td>\n",
       "      <td>30013.0</td>\n",
       "      <td>531.0</td>\n",
       "      <td>...</td>\n",
       "      <td>484.0</td>\n",
       "      <td>-1467.0</td>\n",
       "      <td>1261.0</td>\n",
       "      <td>47.0</td>\n",
       "      <td>1.0</td>\n",
       "      <td>2.0</td>\n",
       "      <td>5.0</td>\n",
       "      <td>5.0</td>\n",
       "      <td>6.0</td>\n",
       "      <td>1.0</td>\n",
       "    </tr>\n",
       "    <tr>\n",
       "      <th>34</th>\n",
       "      <td>0</td>\n",
       "      <td>ESPORTSTMNT01/1040511</td>\n",
       "      <td>100</td>\n",
       "      <td>1.0</td>\n",
       "      <td>0.0</td>\n",
       "      <td>1.0</td>\n",
       "      <td>0.0</td>\n",
       "      <td>22913.0</td>\n",
       "      <td>31100.0</td>\n",
       "      <td>523.0</td>\n",
       "      <td>...</td>\n",
       "      <td>548.0</td>\n",
       "      <td>-1586.0</td>\n",
       "      <td>-928.0</td>\n",
       "      <td>-25.0</td>\n",
       "      <td>0.0</td>\n",
       "      <td>0.0</td>\n",
       "      <td>0.0</td>\n",
       "      <td>0.0</td>\n",
       "      <td>0.0</td>\n",
       "      <td>0.0</td>\n",
       "    </tr>\n",
       "    <tr>\n",
       "      <th>...</th>\n",
       "      <td>...</td>\n",
       "      <td>...</td>\n",
       "      <td>...</td>\n",
       "      <td>...</td>\n",
       "      <td>...</td>\n",
       "      <td>...</td>\n",
       "      <td>...</td>\n",
       "      <td>...</td>\n",
       "      <td>...</td>\n",
       "      <td>...</td>\n",
       "      <td>...</td>\n",
       "      <td>...</td>\n",
       "      <td>...</td>\n",
       "      <td>...</td>\n",
       "      <td>...</td>\n",
       "      <td>...</td>\n",
       "      <td>...</td>\n",
       "      <td>...</td>\n",
       "      <td>...</td>\n",
       "      <td>...</td>\n",
       "      <td>...</td>\n",
       "    </tr>\n",
       "    <tr>\n",
       "      <th>130151</th>\n",
       "      <td>0</td>\n",
       "      <td>ESPORTSTMNT01_3438649</td>\n",
       "      <td>200</td>\n",
       "      <td>0.0</td>\n",
       "      <td>1.0</td>\n",
       "      <td>0.0</td>\n",
       "      <td>0.0</td>\n",
       "      <td>24031.0</td>\n",
       "      <td>30006.0</td>\n",
       "      <td>540.0</td>\n",
       "      <td>...</td>\n",
       "      <td>521.0</td>\n",
       "      <td>31.0</td>\n",
       "      <td>1299.0</td>\n",
       "      <td>19.0</td>\n",
       "      <td>4.0</td>\n",
       "      <td>13.0</td>\n",
       "      <td>2.0</td>\n",
       "      <td>1.0</td>\n",
       "      <td>3.0</td>\n",
       "      <td>4.0</td>\n",
       "    </tr>\n",
       "    <tr>\n",
       "      <th>130162</th>\n",
       "      <td>1</td>\n",
       "      <td>ESPORTSTMNT01_3436660</td>\n",
       "      <td>100</td>\n",
       "      <td>1.0</td>\n",
       "      <td>1.0</td>\n",
       "      <td>0.0</td>\n",
       "      <td>1.0</td>\n",
       "      <td>23720.0</td>\n",
       "      <td>28871.0</td>\n",
       "      <td>515.0</td>\n",
       "      <td>...</td>\n",
       "      <td>461.0</td>\n",
       "      <td>-75.0</td>\n",
       "      <td>545.0</td>\n",
       "      <td>54.0</td>\n",
       "      <td>3.0</td>\n",
       "      <td>4.0</td>\n",
       "      <td>5.0</td>\n",
       "      <td>5.0</td>\n",
       "      <td>9.0</td>\n",
       "      <td>3.0</td>\n",
       "    </tr>\n",
       "    <tr>\n",
       "      <th>130163</th>\n",
       "      <td>0</td>\n",
       "      <td>ESPORTSTMNT01_3436660</td>\n",
       "      <td>200</td>\n",
       "      <td>0.0</td>\n",
       "      <td>0.0</td>\n",
       "      <td>1.0</td>\n",
       "      <td>0.0</td>\n",
       "      <td>23795.0</td>\n",
       "      <td>28326.0</td>\n",
       "      <td>461.0</td>\n",
       "      <td>...</td>\n",
       "      <td>515.0</td>\n",
       "      <td>75.0</td>\n",
       "      <td>-545.0</td>\n",
       "      <td>-54.0</td>\n",
       "      <td>5.0</td>\n",
       "      <td>9.0</td>\n",
       "      <td>3.0</td>\n",
       "      <td>3.0</td>\n",
       "      <td>4.0</td>\n",
       "      <td>5.0</td>\n",
       "    </tr>\n",
       "    <tr>\n",
       "      <th>130174</th>\n",
       "      <td>1</td>\n",
       "      <td>ESPORTSTMNT01_3438678</td>\n",
       "      <td>100</td>\n",
       "      <td>1.0</td>\n",
       "      <td>0.0</td>\n",
       "      <td>0.0</td>\n",
       "      <td>0.0</td>\n",
       "      <td>23356.0</td>\n",
       "      <td>28430.0</td>\n",
       "      <td>481.0</td>\n",
       "      <td>...</td>\n",
       "      <td>515.0</td>\n",
       "      <td>-660.0</td>\n",
       "      <td>-1568.0</td>\n",
       "      <td>-34.0</td>\n",
       "      <td>4.0</td>\n",
       "      <td>7.0</td>\n",
       "      <td>2.0</td>\n",
       "      <td>2.0</td>\n",
       "      <td>0.0</td>\n",
       "      <td>4.0</td>\n",
       "    </tr>\n",
       "    <tr>\n",
       "      <th>130175</th>\n",
       "      <td>0</td>\n",
       "      <td>ESPORTSTMNT01_3438678</td>\n",
       "      <td>200</td>\n",
       "      <td>0.0</td>\n",
       "      <td>1.0</td>\n",
       "      <td>1.0</td>\n",
       "      <td>1.0</td>\n",
       "      <td>24016.0</td>\n",
       "      <td>29998.0</td>\n",
       "      <td>515.0</td>\n",
       "      <td>...</td>\n",
       "      <td>481.0</td>\n",
       "      <td>660.0</td>\n",
       "      <td>1568.0</td>\n",
       "      <td>34.0</td>\n",
       "      <td>2.0</td>\n",
       "      <td>0.0</td>\n",
       "      <td>4.0</td>\n",
       "      <td>4.0</td>\n",
       "      <td>7.0</td>\n",
       "      <td>2.0</td>\n",
       "    </tr>\n",
       "  </tbody>\n",
       "</table>\n",
       "<p>97726 rows × 22 columns</p>\n",
       "</div>"
      ],
      "text/plain": [
       "        result                 gameid  participantid  firstblood  firstdragon  \\\n",
       "10           1  ESPORTSTMNT01/1030526            100         0.0          1.0   \n",
       "11           0  ESPORTSTMNT01/1030526            200         1.0          0.0   \n",
       "22           0  ESPORTSTMNT01/1040501            100         1.0          0.0   \n",
       "23           1  ESPORTSTMNT01/1040501            200         0.0          1.0   \n",
       "34           0  ESPORTSTMNT01/1040511            100         1.0          0.0   \n",
       "...        ...                    ...            ...         ...          ...   \n",
       "130151       0  ESPORTSTMNT01_3438649            200         0.0          1.0   \n",
       "130162       1  ESPORTSTMNT01_3436660            100         1.0          1.0   \n",
       "130163       0  ESPORTSTMNT01_3436660            200         0.0          0.0   \n",
       "130174       1  ESPORTSTMNT01_3438678            100         1.0          0.0   \n",
       "130175       0  ESPORTSTMNT01_3438678            200         0.0          1.0   \n",
       "\n",
       "        firstherald  firsttower  goldat15   xpat15  csat15  ...  opp_csat15  \\\n",
       "10              1.0         1.0   25461.0  29721.0   490.0  ...       468.0   \n",
       "11              0.0         0.0   22882.0  28330.0   468.0  ...       490.0   \n",
       "22              1.0         0.0   25027.0  28752.0   484.0  ...       531.0   \n",
       "23              0.0         1.0   23560.0  30013.0   531.0  ...       484.0   \n",
       "34              1.0         0.0   22913.0  31100.0   523.0  ...       548.0   \n",
       "...             ...         ...       ...      ...     ...  ...         ...   \n",
       "130151          0.0         0.0   24031.0  30006.0   540.0  ...       521.0   \n",
       "130162          0.0         1.0   23720.0  28871.0   515.0  ...       461.0   \n",
       "130163          1.0         0.0   23795.0  28326.0   461.0  ...       515.0   \n",
       "130174          0.0         0.0   23356.0  28430.0   481.0  ...       515.0   \n",
       "130175          1.0         1.0   24016.0  29998.0   515.0  ...       481.0   \n",
       "\n",
       "        golddiffat15  xpdiffat15  csdiffat15  killsat15  assistsat15  \\\n",
       "10            2579.0      1391.0        22.0        7.0         15.0   \n",
       "11           -2579.0     -1391.0       -22.0        4.0          2.0   \n",
       "22            1467.0     -1261.0       -47.0        5.0          6.0   \n",
       "23           -1467.0      1261.0        47.0        1.0          2.0   \n",
       "34           -1586.0      -928.0       -25.0        0.0          0.0   \n",
       "...              ...         ...         ...        ...          ...   \n",
       "130151          31.0      1299.0        19.0        4.0         13.0   \n",
       "130162         -75.0       545.0        54.0        3.0          4.0   \n",
       "130163          75.0      -545.0       -54.0        5.0          9.0   \n",
       "130174        -660.0     -1568.0       -34.0        4.0          7.0   \n",
       "130175         660.0      1568.0        34.0        2.0          0.0   \n",
       "\n",
       "        deathsat15  opp_killsat15  opp_assistsat15  opp_deathsat15  \n",
       "10             4.0            4.0              2.0             7.0  \n",
       "11             7.0            7.0             15.0             4.0  \n",
       "22             1.0            1.0              2.0             5.0  \n",
       "23             5.0            5.0              6.0             1.0  \n",
       "34             0.0            0.0              0.0             0.0  \n",
       "...            ...            ...              ...             ...  \n",
       "130151         2.0            1.0              3.0             4.0  \n",
       "130162         5.0            5.0              9.0             3.0  \n",
       "130163         3.0            3.0              4.0             5.0  \n",
       "130174         2.0            2.0              0.0             4.0  \n",
       "130175         4.0            4.0              7.0             2.0  \n",
       "\n",
       "[97726 rows x 22 columns]"
      ]
     },
     "execution_count": 13,
     "metadata": {},
     "output_type": "execute_result"
    }
   ],
   "source": [
    "df = clean_dataset(df)\n",
    "df"
   ]
  },
  {
   "cell_type": "code",
   "execution_count": 14,
   "id": "2422b705",
   "metadata": {},
   "outputs": [],
   "source": [
    "#Save them as csv file for storage\n",
    "df.to_csv(\"training_data.csv\")"
   ]
  },
  {
   "cell_type": "code",
   "execution_count": 3,
   "id": "794ffd80",
   "metadata": {},
   "outputs": [],
   "source": [
    "#import them back in\n",
    "df = pd.read_csv(\"training_data.csv\")"
   ]
  },
  {
   "cell_type": "code",
   "execution_count": 9,
   "id": "196ee4cf",
   "metadata": {},
   "outputs": [
    {
     "data": {
      "text/plain": [
       "Index(['Unnamed: 0', 'result', 'gameid', 'participantid', 'firstblood',\n",
       "       'firstdragon', 'firstherald', 'firsttower', 'goldat15', 'xpat15',\n",
       "       'csat15', 'opp_goldat15', 'opp_xpat15', 'opp_csat15', 'golddiffat15',\n",
       "       'xpdiffat15', 'csdiffat15', 'killsat15', 'assistsat15', 'deathsat15',\n",
       "       'opp_killsat15', 'opp_assistsat15', 'opp_deathsat15'],\n",
       "      dtype='object')"
      ]
     },
     "execution_count": 9,
     "metadata": {},
     "output_type": "execute_result"
    }
   ],
   "source": [
    "df.columns"
   ]
  },
  {
   "cell_type": "code",
   "execution_count": 12,
   "id": "a0fa6f4d",
   "metadata": {},
   "outputs": [],
   "source": [
    "df.drop(columns=['Unnamed: 0'],inplace=True)"
   ]
  },
  {
   "cell_type": "markdown",
   "id": "f3cd7f01",
   "metadata": {},
   "source": [
    "### Scale and separate data between predictor variables and dependent variable"
   ]
  },
  {
   "cell_type": "code",
   "execution_count": 13,
   "id": "84813d97",
   "metadata": {},
   "outputs": [],
   "source": [
    "def splittingData(df):\n",
    "    df = df.copy()\n",
    "    #spliting x -y\n",
    "    x = df.drop(columns=[\"gameid\",\"participantid\"]).iloc[:, 1:]\n",
    "    y = df.iloc[:, 0]\n",
    "    #Scale the data\n",
    "    scaler = StandardScaler()\n",
    "    x = scaler.fit_transform(x)\n",
    "    return x,y"
   ]
  },
  {
   "cell_type": "code",
   "execution_count": 14,
   "id": "bfc78ec0",
   "metadata": {},
   "outputs": [
    {
     "name": "stdout",
     "output_type": "stream",
     "text": [
      "0        1\n",
      "1        0\n",
      "2        0\n",
      "3        1\n",
      "4        0\n",
      "        ..\n",
      "97721    0\n",
      "97722    1\n",
      "97723    0\n",
      "97724    1\n",
      "97725    0\n",
      "Name: result, Length: 97726, dtype: int64\n",
      "[[-0.99938623  1.00010233  1.00147459 ... -0.0275529  -0.87143104\n",
      "   0.96687774]\n",
      " [ 1.00061415 -0.99989768 -0.99852758 ...  0.97255886  1.50113603\n",
      "  -0.03135194]\n",
      " [ 1.00061415 -0.99989768  1.00147459 ... -1.02766465 -0.87143104\n",
      "   0.30139129]\n",
      " ...\n",
      " [-0.99938623 -0.99989768  1.00147459 ... -0.36092348 -0.50642072\n",
      "   0.30139129]\n",
      " [ 1.00061415 -0.99989768 -0.99852758 ... -0.69429407 -1.23644136\n",
      "  -0.03135194]\n",
      " [-0.99938623  1.00010233  1.00147459 ... -0.0275529   0.04109475\n",
      "  -0.69683839]]\n"
     ]
    }
   ],
   "source": [
    "X,y = splittingData(df)\n",
    "print(y)\n",
    "print(X)"
   ]
  },
  {
   "cell_type": "markdown",
   "id": "a912d5b4",
   "metadata": {},
   "source": [
    "## Splitting training-valdata\n",
    "Getting the 90% of data for training and 10% for validation"
   ]
  },
  {
   "cell_type": "code",
   "execution_count": 16,
   "id": "f8753a57",
   "metadata": {},
   "outputs": [],
   "source": [
    "X_train, X_test, y_train, y_test = train_test_split(X, y, test_size=0.1, random_state=42,shuffle=True)"
   ]
  },
  {
   "cell_type": "markdown",
   "id": "98c67061",
   "metadata": {},
   "source": [
    "# Logistic Regression"
   ]
  },
  {
   "cell_type": "code",
   "execution_count": 18,
   "id": "ee93a68c",
   "metadata": {},
   "outputs": [],
   "source": [
    "#Training the data\n",
    "def trainingModelLogisticRegression(x_train,y_train,reg,sol):\n",
    "    lr = LogisticRegression(penalty=reg, solver=sol,max_iter=1000)\n",
    "    lr.fit(x_train,y_train)\n",
    "    return lr"
   ]
  },
  {
   "cell_type": "markdown",
   "id": "821905ef",
   "metadata": {},
   "source": [
    "#### l1 regularization"
   ]
  },
  {
   "cell_type": "code",
   "execution_count": 39,
   "id": "861b0b59",
   "metadata": {},
   "outputs": [],
   "source": [
    "trainedLrL1 = trainingModelLogisticRegression(X_train,y_train,'l1','liblinear')"
   ]
  },
  {
   "cell_type": "markdown",
   "id": "cdbd0a68",
   "metadata": {},
   "source": [
    "#### l2 regularization"
   ]
  },
  {
   "cell_type": "code",
   "execution_count": 40,
   "id": "ee679360",
   "metadata": {},
   "outputs": [],
   "source": [
    "trainedLrL2= trainingModelLogisticRegression(X_train,y_train,'l2','saga')"
   ]
  },
  {
   "cell_type": "markdown",
   "id": "ded287a0",
   "metadata": {},
   "source": [
    "#### No regularization"
   ]
  },
  {
   "cell_type": "code",
   "execution_count": 32,
   "id": "3494d244",
   "metadata": {},
   "outputs": [
    {
     "name": "stderr",
     "output_type": "stream",
     "text": [
      "C:\\Users\\admin\\AppData\\Local\\Packages\\PythonSoftwareFoundation.Python.3.11_qbz5n2kfra8p0\\LocalCache\\local-packages\\Python311\\site-packages\\sklearn\\linear_model\\_logistic.py:1183: FutureWarning: `penalty='none'`has been deprecated in 1.2 and will be removed in 1.4. To keep the past behaviour, set `penalty=None`.\n",
      "  warnings.warn(\n"
     ]
    }
   ],
   "source": [
    "trainedNone= trainingModelLogisticRegression(X_train,y_train,'none','sag')"
   ]
  },
  {
   "cell_type": "markdown",
   "id": "ea6f4fd6",
   "metadata": {},
   "source": [
    "### Tesing Model"
   ]
  },
  {
   "cell_type": "code",
   "execution_count": 36,
   "id": "979936b8",
   "metadata": {},
   "outputs": [],
   "source": [
    "def testingLr(lr,x_test,y_test):\n",
    "    acc = ['Accuracy']\n",
    "    pre = ['Precision']\n",
    "    re = ['Recall']\n",
    "    f1 = ['F1 Score']\n",
    "    sumacc=0\n",
    "    sumf1=0\n",
    "    sumpre=0\n",
    "    sumre= 0\n",
    "\n",
    "    testEliteLr = lr.predict(x_test)\n",
    "    accs= accuracy_score(y_test, testEliteLr)\n",
    "    pres= precision_score(y_test, testEliteLr)\n",
    "    res = recall_score(y_test, testEliteLr)\n",
    "    f1s = f1_score(y_test, testEliteLr)\n",
    "        \n",
    "    sumacc =sumacc+accs\n",
    "    sumpre =sumpre+pres\n",
    "    sumre = sumre +res\n",
    "    sumf1 =sumf1+f1s\n",
    "    \n",
    "    acc.append(' {:.5f}'.format(accs))\n",
    "    pre.append(' {:.5f}'.format(pres))\n",
    "    re.append(' {:.5f}'.format(res))\n",
    "    f1.append(' {:.5f}'.format(f1s))\n",
    "        \n",
    "    table=[]\n",
    "    table.append(acc)\n",
    "    table.append(pre)\n",
    "    table.append(re)\n",
    "    table.append(f1)\n",
    "    \n",
    "    print(tabulate(table))\n"
   ]
  },
  {
   "cell_type": "markdown",
   "id": "3df84465",
   "metadata": {},
   "source": [
    "### Coefficients"
   ]
  },
  {
   "cell_type": "code",
   "execution_count": 24,
   "id": "91fbcdbb",
   "metadata": {},
   "outputs": [],
   "source": [
    "def coefficientsLr(model):\n",
    "    coefficients = np.hstack((model.intercept_,model.coef_[0]))\n",
    "    name = ['firstblood', 'firstdragon', 'firstherald', 'firsttower', 'goldat15',\n",
    "       'xpat15', 'csat15', 'opp_goldat15', 'opp_xpat15', 'opp_csat15',\n",
    "       'golddiffat15', 'xpdiffat15', 'csdiffat15', 'killsat15', 'assistsat15',\n",
    "       'deathsat15', 'opp_killsat15', 'opp_assistsat15', 'opp_deathsat15']\n",
    "    return name,coefficients"
   ]
  },
  {
   "cell_type": "markdown",
   "id": "5441784a",
   "metadata": {},
   "source": [
    "### Performance of models"
   ]
  },
  {
   "cell_type": "markdown",
   "id": "fd7037c4",
   "metadata": {},
   "source": [
    "#### Validation data"
   ]
  },
  {
   "cell_type": "code",
   "execution_count": 41,
   "id": "e8ef93dd",
   "metadata": {},
   "outputs": [
    {
     "name": "stdout",
     "output_type": "stream",
     "text": [
      "---------  -------\n",
      "Accuracy   0.7621\n",
      "Precision  0.76521\n",
      "Recall     0.75405\n",
      "F1 Score   0.75959\n",
      "---------  -------\n"
     ]
    }
   ],
   "source": [
    "#No regularization\n",
    "testingLr(trainedNone,X_test,y_test)"
   ]
  },
  {
   "cell_type": "code",
   "execution_count": 42,
   "id": "e54edb55",
   "metadata": {},
   "outputs": [
    {
     "name": "stdout",
     "output_type": "stream",
     "text": [
      "---------  -------\n",
      "Accuracy   0.7619\n",
      "Precision  0.765\n",
      "Recall     0.75385\n",
      "F1 Score   0.75938\n",
      "---------  -------\n"
     ]
    }
   ],
   "source": [
    "#L1 regularization\n",
    "testingLr(trainedLrL1,X_test,y_test)"
   ]
  },
  {
   "cell_type": "code",
   "execution_count": 43,
   "id": "29284d48",
   "metadata": {},
   "outputs": [
    {
     "name": "stdout",
     "output_type": "stream",
     "text": [
      "---------  -------\n",
      "Accuracy   0.7621\n",
      "Precision  0.76521\n",
      "Recall     0.75405\n",
      "F1 Score   0.75959\n",
      "---------  -------\n"
     ]
    }
   ],
   "source": [
    "#L1 regularization\n",
    "testingLr(trainedLrL2,X_test,y_test)"
   ]
  },
  {
   "cell_type": "code",
   "execution_count": 44,
   "id": "1c99e65c",
   "metadata": {},
   "outputs": [
    {
     "name": "stdout",
     "output_type": "stream",
     "text": [
      "|    | variable        |   coefficient |\n",
      "|---:|:----------------|--------------:|\n",
      "|  8 | opp_goldat15    |   -0.354349   |\n",
      "| 10 | opp_csat15      |   -0.177302   |\n",
      "|  9 | opp_xpat15      |   -0.148616   |\n",
      "| 17 | opp_killsat15   |   -0.12177    |\n",
      "| 14 | killsat15       |   -0.0962695  |\n",
      "| 18 | opp_assistsat15 |   -0.0894204  |\n",
      "| 13 | csdiffat15      |   -0.0214704  |\n",
      "|  0 | Intercept       |   -0.00329462 |\n",
      "|  1 | firstblood      |    0.018633   |\n",
      "|  3 | firstherald     |    0.0200043  |\n",
      "| 16 | deathsat15      |    0.0319334  |\n",
      "| 15 | assistsat15     |    0.088143   |\n",
      "|  4 | firsttower      |    0.143384   |\n",
      "|  6 | xpat15          |    0.153905   |\n",
      "|  7 | csat15          |    0.180709   |\n",
      "| 19 | opp_deathsat15  |    0.189397   |\n",
      "| 12 | xpdiffat15      |    0.207107   |\n",
      "|  2 | firstdragon     |    0.261176   |\n",
      "|  5 | goldat15        |    0.344263   |\n",
      "| 11 | golddiffat15    |    0.430212   |\n"
     ]
    }
   ],
   "source": [
    "#Coefficients\n",
    "name,coef = coefficientsLr(trainedLrL1)\n",
    "df = pd.DataFrame(data={'variable': ['Intercept'] + name, 'coefficient': coef})\n",
    "df = df.sort_values(by='coefficient')\n",
    "print(df.to_markdown())"
   ]
  },
  {
   "cell_type": "code",
   "execution_count": 46,
   "id": "a4881a50",
   "metadata": {},
   "outputs": [
    {
     "data": {
      "image/png": "[encoded data removed]",
      "text/plain": [
       "<Figure size 640x480 with 1 Axes>"
      ]
     },
     "metadata": {},
     "output_type": "display_data"
    }
   ],
   "source": [
    "plt.rcdefaults()\n",
    "fig, ax = plt.subplots()\n",
    "\n",
    "name,coef = coefficientsLr(trainedLrL1)\n",
    "df = pd.DataFrame(data={'variable': ['Intercept'] + name, 'coefficient': coef})\n",
    "df = df.sort_values(by='coefficient')\n",
    "\n",
    "yLable = df.iloc[:, 0].tolist()\n",
    "coef = df.iloc[:, 1].tolist()\n",
    "y_pos = np.arange(len(yLable))\n",
    "\n",
    "\n",
    "ax.barh(y_pos, coef, align='center')\n",
    "\n",
    "ax.set_yticks(y_pos, labels=yLable, size=7)\n",
    "ax.invert_yaxis()  # labels read top-to-bottom\n",
    "ax.set_xlabel('Coefficients')\n",
    "ax.set_title('L1 Reg')\n",
    "\n",
    "plt.show()"
   ]
  },
  {
   "cell_type": "code",
   "execution_count": 48,
   "id": "6d6bd88b",
   "metadata": {
    "scrolled": false
   },
   "outputs": [
    {
     "name": "stdout",
     "output_type": "stream",
     "text": [
      "|    | variable        |   coefficient |\n",
      "|---:|:----------------|--------------:|\n",
      "|  8 | opp_goldat15    |    -0.355404  |\n",
      "| 17 | opp_killsat15   |    -0.274548  |\n",
      "|  9 | opp_xpat15      |    -0.147169  |\n",
      "| 18 | opp_assistsat15 |    -0.0893404 |\n",
      "| 10 | opp_csat15      |    -0.0586239 |\n",
      "| 19 | opp_deathsat15  |    -0.0390514 |\n",
      "|  0 | Intercept       |    -0.0033683 |\n",
      "|  1 | firstblood      |     0.0187104 |\n",
      "|  3 | firstherald     |     0.0203843 |\n",
      "|  7 | csat15          |     0.061722  |\n",
      "| 15 | assistsat15     |     0.0876947 |\n",
      "| 13 | csdiffat15      |     0.109305  |\n",
      "| 14 | killsat15       |     0.132513  |\n",
      "|  4 | firsttower      |     0.143692  |\n",
      "|  6 | xpat15          |     0.152529  |\n",
      "| 16 | deathsat15      |     0.184481  |\n",
      "| 12 | xpdiffat15      |     0.210065  |\n",
      "|  2 | firstdragon     |     0.261255  |\n",
      "|  5 | goldat15        |     0.345396  |\n",
      "| 11 | golddiffat15    |     0.426875  |\n"
     ]
    }
   ],
   "source": [
    "#Coefficients\n",
    "name,coef = coefficientsLr(trainedLrL2)\n",
    "df = pd.DataFrame(data={'variable': ['Intercept'] + name, 'coefficient': coef})\n",
    "df = df.sort_values(by='coefficient')\n",
    "print(df.to_markdown())"
   ]
  },
  {
   "cell_type": "code",
   "execution_count": 68,
   "id": "029f8520",
   "metadata": {},
   "outputs": [
    {
     "data": {
      "image/png": "[encoded data removed]",
      "text/plain": [
       "<Figure size 640x480 with 1 Axes>"
      ]
     },
     "metadata": {},
     "output_type": "display_data"
    }
   ],
   "source": [
    "plt.rcdefaults()\n",
    "fig, ax = plt.subplots()\n",
    "\n",
    "name,coef = coefficientsLr(trainedLrL2)\n",
    "df = pd.DataFrame(data={'variable': ['Intercept'] + name, 'coefficient': coef})\n",
    "df = df.sort_values(by='coefficient')\n",
    "\n",
    "yLable = df.iloc[:, 0].tolist()\n",
    "coef = df.iloc[:, 1].tolist()\n",
    "y_pos = np.arange(len(yLable))\n",
    "\n",
    "ax.barh(y_pos, coef, align='center')\n",
    "\n",
    "ax.set_yticks(y_pos, labels=yLable, size=7)\n",
    "ax.invert_yaxis()  # labels read top-to-bottom\n",
    "ax.set_xlabel('Coefficients')\n",
    "ax.set_title('L2 Reg')\n",
    "\n",
    "plt.show()"
   ]
  },
  {
   "cell_type": "markdown",
   "id": "c15b64af",
   "metadata": {},
   "source": [
    "# Random Forest "
   ]
  },
  {
   "cell_type": "code",
   "execution_count": 50,
   "id": "dc0bb16f",
   "metadata": {},
   "outputs": [],
   "source": [
    "from sklearn.ensemble import RandomForestClassifier"
   ]
  },
  {
   "cell_type": "code",
   "execution_count": 52,
   "id": "5498dcbf",
   "metadata": {},
   "outputs": [],
   "source": [
    "def trainingModelRandomForest(x,y,nSamples,maxDepth,minSampleSplit,minSampleLeaf,maxFeatures):\n",
    "    rf=RandomForestClassifier(n_estimators=nSamples,max_depth=maxDepth, min_samples_split=minSampleSplit, min_samples_leaf=minSampleLeaf,max_features=maxFeatures)\n",
    "    rf.fit(x,y)\n",
    "    return rf\n",
    "    #y_pred=clf.predict(X_test)"
   ]
  },
  {
   "cell_type": "code",
   "execution_count": 55,
   "id": "a259e686",
   "metadata": {},
   "outputs": [],
   "source": [
    "trainedRf=[]\n",
    "nSamples=1000\n",
    "maxDepth= None\n",
    "minSampleSplit=2\n",
    "minSampleLeaf=1\n",
    "maxFeatures=10\n",
    "trainedRf.append(trainingModelRandomForest(X_train,y_train,nSamples,maxDepth,minSampleSplit,minSampleLeaf,maxFeatures))"
   ]
  },
  {
   "cell_type": "markdown",
   "id": "480209d6",
   "metadata": {},
   "source": [
    "#### Validation"
   ]
  },
  {
   "cell_type": "code",
   "execution_count": 57,
   "id": "c7f03a47",
   "metadata": {},
   "outputs": [
    {
     "name": "stdout",
     "output_type": "stream",
     "text": [
      "---------  -------\n",
      "Accuracy   0.75657\n",
      "Precision  0.75797\n",
      "Recall     0.75159\n",
      "F1 Score   0.75477\n",
      "---------  -------\n"
     ]
    }
   ],
   "source": [
    "testingLr(trainedRf[0],X_test,y_test)"
   ]
  },
  {
   "cell_type": "markdown",
   "id": "46470175",
   "metadata": {},
   "source": [
    "### Important Feature"
   ]
  },
  {
   "cell_type": "code",
   "execution_count": 58,
   "id": "cd3e1232",
   "metadata": {},
   "outputs": [],
   "source": [
    "def importanceRf(model):\n",
    "    name = ['firstblood', 'firstdragon', 'firstherald', 'firsttower', 'goldat15',\n",
    "       'xpat15', 'csat15', 'opp_goldat15', 'opp_xpat15', 'opp_csat15',\n",
    "       'golddiffat15', 'xpdiffat15', 'csdiffat15', 'killsat15', 'assistsat15',\n",
    "       'deathsat15', 'opp_killsat15', 'opp_assistsat15', 'opp_deathsat15']\n",
    "    featureImp = pd.Series(model.feature_importances_,index=name).sort_values(ascending=True)\n",
    "    return print(featureImp.to_markdown())"
   ]
  },
  {
   "cell_type": "code",
   "execution_count": 59,
   "id": "bcf169d9",
   "metadata": {},
   "outputs": [
    {
     "name": "stdout",
     "output_type": "stream",
     "text": [
      "|                 |          0 |\n",
      "|:----------------|-----------:|\n",
      "| firstherald     | 0.00648342 |\n",
      "| firstblood      | 0.00690505 |\n",
      "| firstdragon     | 0.0114824  |\n",
      "| firsttower      | 0.0124358  |\n",
      "| killsat15       | 0.0153925  |\n",
      "| opp_killsat15   | 0.0153935  |\n",
      "| opp_deathsat15  | 0.0154243  |\n",
      "| deathsat15      | 0.0154397  |\n",
      "| opp_assistsat15 | 0.0320189  |\n",
      "| assistsat15     | 0.0320322  |\n",
      "| opp_csat15      | 0.0505703  |\n",
      "| csat15          | 0.050909   |\n",
      "| csdiffat15      | 0.054256   |\n",
      "| opp_xpat15      | 0.0578585  |\n",
      "| xpat15          | 0.0581167  |\n",
      "| opp_goldat15    | 0.0779864  |\n",
      "| goldat15        | 0.0793009  |\n",
      "| xpdiffat15      | 0.138932   |\n",
      "| golddiffat15    | 0.269063   |\n"
     ]
    }
   ],
   "source": [
    "#Important Features\n",
    "importanceRf(trainedRf[0])"
   ]
  },
  {
   "cell_type": "code",
   "execution_count": 74,
   "id": "80b88011",
   "metadata": {},
   "outputs": [
    {
     "data": {
      "image/png": "[encoded data removed]",
      "text/plain": [
       "<Figure size 640x480 with 1 Axes>"
      ]
     },
     "metadata": {},
     "output_type": "display_data"
    }
   ],
   "source": [
    "name = ['firstblood', 'firstdragon', 'firstherald', 'firsttower', 'goldat15',\n",
    "       'xpat15', 'csat15', 'opp_goldat15', 'opp_xpat15', 'opp_csat15',\n",
    "       'golddiffat15', 'xpdiffat15', 'csdiffat15', 'killsat15', 'assistsat15',\n",
    "       'deathsat15', 'opp_killsat15', 'opp_assistsat15', 'opp_deathsat15']\n",
    "featureImp = pd.Series(trainedRf[0].feature_importances_,index=name).sort_values(ascending=True)\n",
    "\n",
    "plt.rcdefaults()\n",
    "fig, ax = plt.subplots()\n",
    "\n",
    "yLable = featureImp.index.tolist()\n",
    "coef = featureImp.tolist()\n",
    "y_pos = np.arange(len(yLable))\n",
    "#ax.barh(y_pos, coef, xerr=error, align='center')\n",
    "ax.barh(y_pos, coef, align='center')\n",
    "\n",
    "ax.set_yticks(y_pos, labels=yLable, size=7)\n",
    "ax.invert_yaxis()  # labels read top-to-bottom\n",
    "ax.set_title('Feature Importance')\n",
    "\n",
    "plt.show()"
   ]
  },
  {
   "cell_type": "markdown",
   "id": "1f41a4de",
   "metadata": {},
   "source": [
    "## Support Vector Machine"
   ]
  },
  {
   "cell_type": "code",
   "execution_count": 75,
   "id": "8d4036ab",
   "metadata": {},
   "outputs": [],
   "source": [
    "from sklearn.svm import SVC"
   ]
  },
  {
   "cell_type": "markdown",
   "id": "f76f659f",
   "metadata": {},
   "source": [
    "#### Training the Model "
   ]
  },
  {
   "cell_type": "code",
   "execution_count": 77,
   "id": "4ce4f18b",
   "metadata": {},
   "outputs": [],
   "source": [
    "trainedLinearSvm=SVC(kernel='linear').fit(X_train,y_train)\n",
    "trainedRbfSvm = SVC(kernel='rbf').fit(X_train,y_train)"
   ]
  },
  {
   "cell_type": "markdown",
   "id": "6970b76a",
   "metadata": {},
   "source": [
    "#### Validation"
   ]
  },
  {
   "cell_type": "code",
   "execution_count": 78,
   "id": "f8bf9134",
   "metadata": {},
   "outputs": [
    {
     "name": "stdout",
     "output_type": "stream",
     "text": [
      "---------  -------\n",
      "Accuracy   0.75954\n",
      "Precision  0.76365\n",
      "Recall     0.74954\n",
      "F1 Score   0.75653\n",
      "---------  -------\n"
     ]
    }
   ],
   "source": [
    "#linear kernel\n",
    "testingLr(trainedLinearSvm,X_test,y_test)"
   ]
  },
  {
   "cell_type": "code",
   "execution_count": 79,
   "id": "1d9aa5f7",
   "metadata": {},
   "outputs": [
    {
     "name": "stdout",
     "output_type": "stream",
     "text": [
      "---------  -------\n",
      "Accuracy   0.75739\n",
      "Precision  0.7602\n",
      "Recall     0.74974\n",
      "F1 Score   0.75494\n",
      "---------  -------\n"
     ]
    }
   ],
   "source": [
    "#rbf kernel\n",
    "testingLr(trainedRbfSvm,X_test,y_test)"
   ]
  }
 ],
 "metadata": {
  "kernelspec": {
   "display_name": "Python 3 (ipykernel)",
   "language": "python",
   "name": "python3"
  },
  "language_info": {
   "codemirror_mode": {
    "name": "ipython",
    "version": 3
   },
   "file_extension": ".py",
   "mimetype": "text/x-python",
   "name": "python",
   "nbconvert_exporter": "python",
   "pygments_lexer": "ipython3",
   "version": "3.11.7"
  }
 },
 "nbformat": 4,
 "nbformat_minor": 5
}
